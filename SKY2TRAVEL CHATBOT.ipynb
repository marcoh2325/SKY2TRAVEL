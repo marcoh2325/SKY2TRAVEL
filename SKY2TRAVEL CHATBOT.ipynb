{
 "cells": [
  {
   "cell_type": "markdown",
   "id": "017b2df3",
   "metadata": {},
   "source": [
    "# SKY2TRAVEL CHATBOT WITH NLTK"
   ]
  },
  {
   "cell_type": "markdown",
   "id": "f3db8f3e",
   "metadata": {},
   "source": [
    "ETL SQUAD: <br>\n",
    "Jessica López <br>\n",
    "Alberto Padilla <br>\n",
    "Ruben Tenreiro <br>\n",
    "Marco Hernani <br>"
   ]
  },
  {
   "cell_type": "markdown",
   "id": "8cc90564",
   "metadata": {},
   "source": [
    "The company Sky2travel requires our services, and does not hire us to make a transactional bot focused on facilitating the search for flights and travel for customers who request it to integrate it into mobile devices and different apps.\n",
    "\n",
    "The goal is that customers with a text message, make a request and the bot is able to return the necessary information.\n",
    "\n",
    "In addition, booking requests must be saved in Json format. \n",
    "be saved in Json format."
   ]
  },
  {
   "cell_type": "markdown",
   "id": "34297827",
   "metadata": {},
   "source": [
    "We import the libraries that We are going to need"
   ]
  },
  {
   "cell_type": "code",
   "execution_count": 1,
   "id": "3aa8b1bb",
   "metadata": {},
   "outputs": [],
   "source": [
    "import nltk\n",
    "from nltk.tokenize import word_tokenize\n",
    "from nltk.chunk.regexp import *\n",
    "from nltk.corpus import treebank\n",
    "from nltk.tag.hmm import HiddenMarkovModelTagger\n",
    "import pandas as pd\n",
    "import unidecode\n",
    "\n",
    "# For microphone use\n",
    "import speech_recognition as sr\n",
    "\n",
    "# For chatbot\n",
    "from nltk.chat.util import Chat, reflections\n",
    "\n",
    "# For program talking to the user\n",
    "import pyttsx3"
   ]
  },
  {
   "cell_type": "markdown",
   "id": "eb24c10c",
   "metadata": {},
   "source": [
    "Creation of the data that We are going to use which contain the names of valid cities, airlines and months."
   ]
  },
  {
   "cell_type": "code",
   "execution_count": 2,
   "id": "32b23b76",
   "metadata": {},
   "outputs": [
    {
     "data": {
      "text/plain": [
       "['american airlines',\n",
       " 'delta air lines',\n",
       " 'united airlines',\n",
       " 'southwest airlines',\n",
       " 'alaska airlines',\n",
       " 'jetblue airways',\n",
       " 'spirit airlines',\n",
       " 'frontier airlines',\n",
       " 'hawaiian airlines',\n",
       " 'allegiant air',\n",
       " 'sun country airlines',\n",
       " 'virgin america',\n",
       " 'mesa airlines',\n",
       " 'republic airways',\n",
       " 'skywest airlines']"
      ]
     },
     "execution_count": 2,
     "metadata": {},
     "output_type": "execute_result"
    }
   ],
   "source": [
    "airlines = [ \"American Airlines\", \"Delta Air Lines\", \"United Airlines\", \"Southwest Airlines\", \"Alaska Airlines\", \"JetBlue Airways\", \"Spirit Airlines\", \"Frontier Airlines\", \"Hawaiian Airlines\", \"Allegiant Air\", \"Sun Country Airlines\", \"Virgin America\", \"Mesa Airlines\", \"Republic Airways\", \"SkyWest Airlines\" ]\n",
    "airlines = list(map(lambda x: x.lower(), airlines))\n",
    "airlines"
   ]
  },
  {
   "cell_type": "code",
   "execution_count": 3,
   "id": "16251c5a",
   "metadata": {},
   "outputs": [
    {
     "data": {
      "text/plain": [
       "['enero',\n",
       " 'febrero',\n",
       " 'marzo',\n",
       " 'abril',\n",
       " 'mayo',\n",
       " 'junio',\n",
       " 'julio',\n",
       " 'agosto',\n",
       " 'septiembre',\n",
       " 'octubre',\n",
       " 'noviembre',\n",
       " 'diciembre']"
      ]
     },
     "execution_count": 3,
     "metadata": {},
     "output_type": "execute_result"
    }
   ],
   "source": [
    "months = [\"enero\", \"febrero\", \"marzo\", \"abril\", \"mayo\", \"junio\", \"julio\", \"agosto\", \"septiembre\", \"octubre\", \"noviembre\", \"diciembre\"]\n",
    "months"
   ]
  },
  {
   "cell_type": "code",
   "execution_count": 4,
   "id": "8181b8a8",
   "metadata": {},
   "outputs": [
    {
     "data": {
      "text/plain": [
       "['new york',\n",
       " 'los angeles',\n",
       " 'chicago',\n",
       " 'dallas',\n",
       " 'philadelphia',\n",
       " 'houston',\n",
       " 'toronto',\n",
       " 'washington',\n",
       " 'miami',\n",
       " 'atlanta']"
      ]
     },
     "execution_count": 4,
     "metadata": {},
     "output_type": "execute_result"
    }
   ],
   "source": [
    "cities = pd.read_csv(\"Files/cities.csv\", names = [\"ciudad\"])\n",
    "cities = list(cities['ciudad'].str.lower())\n",
    "cities[:10]"
   ]
  },
  {
   "cell_type": "markdown",
   "id": "6154865a",
   "metadata": {},
   "source": [
    "## Functions definitions"
   ]
  },
  {
   "cell_type": "code",
   "execution_count": 5,
   "id": "775ea265",
   "metadata": {},
   "outputs": [],
   "source": [
    "def detector_word(_sentence, _special_words):\n",
    "    \"\"\"Returns the words that are in special words\n",
    "    _special_words: a list with all the proper nouns\n",
    "    _sentence: a string that contains the sentence to process\"\"\"\n",
    "    detected_words = []\n",
    "    for word in _special_words:\n",
    "        if(word.lower() in _sentence.lower()):\n",
    "            detected_words.append(word.lower())\n",
    "    return detected_words"
   ]
  },
  {
   "cell_type": "code",
   "execution_count": 6,
   "id": "73f2fd68",
   "metadata": {},
   "outputs": [],
   "source": [
    "def get_tokens(_sentence):\n",
    "    \"\"\"Tokenizes a sentence\n",
    "    _frase: sentence to tokenize\n",
    "    returns: a list with the words of sentence\"\"\"\n",
    "    _sentence = unidecode.unidecode(_sentence)\n",
    "    cities_detected = detector_word(_sentence, cities)\n",
    "    airlines_detected = detector_word(_sentence, airlines)\n",
    "    months_detected = detector_word(_sentence, months)\n",
    "    sentence_slicer = [*cities_detected[:2],*airlines_detected, *months_detected]\n",
    "    \n",
    "    special_words_indexes = []\n",
    "\n",
    "    for word in sentence_slicer:\n",
    "        for i in range(len(_sentence)-len(word)+1):\n",
    "            if(word.lower() == _sentence[i:i+len(word)].lower()):\n",
    "                special_words_indexes.append((i, word))\n",
    "\n",
    "    #Sorts the list of tuples\n",
    "    special_words_indexes.sort(key=lambda x: x[0])\n",
    "\n",
    "    little_bits = []\n",
    "    i= 0\n",
    "    for x in special_words_indexes:\n",
    "        #Get substring from i to beggining of special words\n",
    "        part_tokens = word_tokenize(_sentence[i:x[0]], \"spanish\")\n",
    "        part_tokens = [word.lower() for word in part_tokens if word.isalnum()]\n",
    "        little_bits.extend([*part_tokens, x[1]])\n",
    "        i = x[0] + len(x[1])\n",
    "\n",
    "    #In case there is a part left to be tokenized after the last special words\n",
    "    if(i < len(_sentence)-1):\n",
    "        part_tokens = word_tokenize(_sentence[i:], \"spanish\")\n",
    "        part_tokens = [word.lower() for word in part_tokens if word.isalnum()]\n",
    "        little_bits.extend([*part_tokens])\n",
    "\n",
    "    return little_bits\n"
   ]
  },
  {
   "cell_type": "code",
   "execution_count": 7,
   "id": "01b72340",
   "metadata": {},
   "outputs": [],
   "source": [
    "def get_tree(tokens):\n",
    "    \"\"\"Creates a tree with the labels with a list of tokens\"\"\"\n",
    "    return parser.parse(tokens)"
   ]
  },
  {
   "cell_type": "code",
   "execution_count": 8,
   "id": "47fcbee1",
   "metadata": {},
   "outputs": [],
   "source": [
    "def get_json(_sentence):\n",
    "    \"\"\"Gets a sentence and returns a json\"\"\"\n",
    "    tree_sentence_tag = get_tree(hmm.tag(get_tokens(_sentence)))\n",
    "    semi_query = []\n",
    "    for x in tree_sentence_tag[:]:\n",
    "        if (type(x) == Tree):\n",
    "            semi_query.append((x.label(),x[:]))\n",
    "\n",
    "    json_query = {'numeroBilletes': '', 'Origen': '', 'Destino': '', 'fecha': '', 'aerolinea': ''}\n",
    "\n",
    "    for x in semi_query:\n",
    "        if(x[0] == 'fecha'):\n",
    "            fecha_vuelo = list(map(lambda t: t[0], x[1]))\n",
    "            json_query['fecha'] = \" \".join(fecha_vuelo)\n",
    "        else:\n",
    "            json_query[x[0]] = x[1][0][0]\n",
    "\n",
    "    return(json_query)"
   ]
  },
  {
   "cell_type": "code",
   "execution_count": 9,
   "id": "936dc270",
   "metadata": {
    "scrolled": true
   },
   "outputs": [],
   "source": [
    "def get_voice():\n",
    "    \"\"\"Asks for a the microphone record and returns an string\"\"\"\n",
    "    # Crear instancia del objeto reconocedor\n",
    "    r = sr.Recognizer()\n",
    "    # Utilizar el micrófono del sistema como fuente de audio\n",
    "    with sr.Microphone() as source:\n",
    "        # Ajustar nivel de ruido ambiental\n",
    "        r.adjust_for_ambient_noise(source)\n",
    "        print(\"Di algo...\")\n",
    "        # Escuchar audio del usuario\n",
    "        audio = r.listen(source)\n",
    "        \n",
    "        # Convertir audio a texto utilizando el reconocimiento de voz de Google\n",
    "        user_sentence = r.recognize_google(audio, language='es-ES')\n",
    "        \n",
    "        user_sentence = unidecode.unidecode(user_sentence)\n",
    "        \n",
    "        return user_sentence"
   ]
  },
  {
   "cell_type": "code",
   "execution_count": 10,
   "id": "fd7027e5",
   "metadata": {},
   "outputs": [],
   "source": [
    "def talk_to_user(s, engine):\n",
    "    \"\"\"Gets an string an says it\"\"\"\n",
    "    engine.say(s)\n",
    "    engine.runAndWait()"
   ]
  },
  {
   "cell_type": "code",
   "execution_count": 11,
   "id": "52bda30e",
   "metadata": {},
   "outputs": [],
   "source": [
    "def query_correction(_query, engine):\n",
    "    \"\"\"Corrects the json values\"\"\"\n",
    "    \n",
    "    while(_query[\"aerolinea\"] not in airlines):\n",
    "        talk_to_user('Por favor, introduce el nombre de la aerolinea: ', engine)\n",
    "        _query[\"aerolinea\"] = get_voice().lower()\n",
    "        \n",
    "    while(_query[\"Origen\"] not in cities):\n",
    "        talk_to_user('Por favor, introduce la ciudad de origen: ', engine)\n",
    "        _query[\"Origen\"] = get_voice().lower()\n",
    "\n",
    "    while(_query[\"Destino\"] not in cities):\n",
    "        talk_to_user('Por favor, introduce la ciudad de destino: ', engine)\n",
    "        _query[\"Destino\"] = get_voice().lower()\n",
    "\n",
    "    while(len(_query[\"fecha\"]) == 0):\n",
    "        talk_to_user('Por favor, introduce la fecha: ', engine)\n",
    "        _query[\"fecha\"] = get_voice().lower()    \n",
    "    else:\n",
    "        print('Gracias, procesando tu peticion...')"
   ]
  },
  {
   "cell_type": "code",
   "execution_count": 12,
   "id": "658d799e",
   "metadata": {},
   "outputs": [],
   "source": [
    "def sky2travel_chat(engine):\n",
    "    \"\"\"Runs the chatbot\"\"\"\n",
    "\n",
    "    quit_words = ['n', 'no']\n",
    "    q = ''\n",
    "\n",
    "    talk_to_user(\"Hola, bienvenido a sky2travel, como te puedo ayudar?\", engine)\n",
    "\n",
    "    while(q not in quit_words):\n",
    "        user_sentence = get_voice()\n",
    "        json_sentence = get_json(user_sentence)\n",
    "\n",
    "        query_correction(json_sentence, engine)\n",
    "        \n",
    "        print(f\"\"\"Perfecto. Voy a realizar la búsqueda de {json_sentence[\"numeroBilletes\"]} billetes para tu viaje desde \n",
    "        {json_sentence[\"Origen\"]} a {json_sentence[\"Destino\"]} para el {json_sentence[\"fecha\"]}\n",
    "        con {json_sentence[\"aerolinea\"]}.\"\"\")\n",
    "\n",
    "        q = input(\"Quieres continuar s/n : \\n\")"
   ]
  },
  {
   "cell_type": "code",
   "execution_count": 13,
   "id": "376bbee1",
   "metadata": {},
   "outputs": [],
   "source": [
    "train_corpus = [\n",
    " [('quisiera', \"vmip000\"),\n",
    "  ('reservar', \"vmn0000\"),\n",
    "  ('3', 'Z'),\n",
    "  ('billetes', \"ncmp000\"),\n",
    "  ('de', \"sps00\"),\n",
    "  ('new york', \"np00000\"),\n",
    "  ('a', \"sps00\"),\n",
    "  ('los angeles',  \"np00000\"),\n",
    "  ('el', \"da0ms0\"),\n",
    "  ('13','Z'),              \n",
    "  ('de', \"sps00\"),\n",
    "  ('mayo','mes'),\n",
    "  ('con', 'sps00'),\n",
    "  ('ryanair', 'np00000')\n",
    "  ],\n",
    "    \n",
    "  [(\"me\", \"pp000000\"),\n",
    "  (\"gustaría\", \"vmic000\"),\n",
    "  (\"reservar\", \"vmn0000\"),\n",
    "  (\"2\", \"Z\"),\n",
    "  (\"billetes\", \"ncmp000\"),\n",
    "  (\"de\", \"sps00\"),\n",
    "  (\"chicago\", \"np00000\"),\n",
    "  (\"a\", \"sps00\"),\n",
    "  (\"miami\", \"np00000\"),\n",
    "  (\"para\", \"sps00\"),\n",
    "  (\"el\", \"da0ms0\"),\n",
    "  (\"próximo\", \"tiempo\"),\n",
    "  (\"fin\", \"ncms000\"),\n",
    "  (\"de\", \"sps00\"),\n",
    "  (\"semana\", \"tiempo\"),\n",
    "  (\"con\", \"sps00\"),\n",
    "  (\"allegian air\", \"np00000\")],\n",
    "                \n",
    "  [(\"tienen\", \"vmip3p0\"),\n",
    "  (\"vuelos\", \"ncmp000\"),\n",
    "  (\"de\", \"sps00\"),\n",
    "  (\"san francisco\", \"np00000\"),\n",
    "  (\"a\", \"sps00\"),\n",
    "  (\"seattle\", \"np00000\"),\n",
    "  (\"para\", \"sps00\"),\n",
    "  (\"el\", \"da0ms0\"),\n",
    "  ('20','Z'),\n",
    "  (\"de\", \"sps00\"),\n",
    "  (\"abril\", \"mes\"), \n",
    "  ('con', 'sps00'),\n",
    "  ('Iberia', 'np00000')],\n",
    "\n",
    "  [(\"quiero\", \"vmip1s0\"), \n",
    "  (\"reservar\", \"vmn0000\"), \n",
    "  (\"3\", \"Z\"), \n",
    "  (\"billetes\", \"ncmp000\"), \n",
    "  (\"de\", \"sps00\"), \n",
    "  (\"dallas\", \"np00000\"),\n",
    "  (\"a\", \"sps00\"), \n",
    "  (\"las vegas\", \"np00000\"), \n",
    "  (\"para\", \"sps00\"), \n",
    "  (\"el\", \"da0ms0\"), \n",
    "  (\"4\", \"Z\"), \n",
    "  (\"de\", \"sps00\"),\n",
    "  (\"abril\", \"mes\"),\n",
    "  (\"con\", \"sps00\"), \n",
    "  (\"spirit airlines\", \"np00000\")],\n",
    "                \n",
    "  [(\"necesito\", \"vmip1s0\"),\n",
    "  (\"2\", \"Z\"), \n",
    "  (\"billetes\", \"ncmp000\"),  \n",
    "  (\"de\", \"sps00\"), \n",
    "  (\"boston\", \"np00000\"), \n",
    "  (\"a\", \"sps00\"), \n",
    "  (\"denver\", \"np00000\"), \n",
    "  (\"el\", \"da0ms0\"), \n",
    "  (\"6\", \"Z\"), \n",
    "  (\"de\", \"sps00\"), \n",
    "  (\"junio\", \"mes\"),\n",
    "  (\"con\", \"sps00\"), \n",
    "  (\"allegiant air\", \"np00000\")],\n",
    "\n",
    "[(\"podría\", \"vmip3s0\"), \n",
    " (\"reservar\", \"vmn0000\"), \n",
    " (\"1\", \"Z\"), \n",
    " (\"billete\", \"ncms000\"),   \n",
    " (\"de\", \"sps00\"), \n",
    " (\"american airlines\", \"np00000\"), \n",
    " (\"de\", \"sps00\"), \n",
    " (\"washington d.c.\", \"np00000\"), \n",
    " (\"a\", \"sps00\"), \n",
    " (\"new orleans\", \"np00000\"), \n",
    " (\"para\", \"sps00\"), \n",
    " (\"el\", \"da0ms0\"), \n",
    " (\"30\", \"Z\"), \n",
    " (\"de\", \"sps00\"), \n",
    " (\"febrero\", \"mes\"),  \n",
    " ('con', 'sps00'),\n",
    " ('easyjet', 'np00000')],\n",
    "\n",
    "[(\"me\", \"pp1cs000\"), \n",
    " (\"gustaría\", \"vmis1s0\"), \n",
    " (\"1\", \"Z\"), \n",
    " (\"billete\", \"ncms000\"), \n",
    " (\"de\", \"sps00\"), \n",
    " (\"atlanta\", \"np00000\"), \n",
    " (\"a\", \"sps00\"), \n",
    " (\"orlando\", \"np00000\"), \n",
    " (\"el\", \"da0ms0\"), \n",
    " (\"15\", \"Z\"), \n",
    " (\"de\", \"sps00\"), \n",
    " (\"mayo\", \"mes\"), \n",
    " (\"con\", \"sps00\"), \n",
    " (\"hawaiian airlines\", \"np00000\")],\n",
    "\n",
    "[(\"tienen\", \"vmip3p0\"),\n",
    " (\"4\", \"Z\"),\n",
    " (\"vuelos\", \"ncmp000\"), \n",
    " (\"de\", \"sps00\"), \n",
    " (\"houston\", \"np00000\"), \n",
    " (\"a\", \"sps00\"), \n",
    " (\"phoenix\", \"np00000\"), \n",
    " (\"para\", \"sps00\"),\n",
    " (\"el\", \"da0ms0\"),\n",
    " (\"7\", \"Z\"),\n",
    " (\"de\", \"sps00\"),\n",
    " (\"mayo\", \"mes\"),\n",
    " (\"con\", \"sps00\"), \n",
    " (\"virgin america\", \"np00000\")],\n",
    "\n",
    "[(\"tienen\", \"vmip3p0\"), \n",
    " ('25', 'Z'),\n",
    " (\"vuelos\", \"ncmp000\"),\n",
    " (\"de\", \"sps00\"), \n",
    " (\"houston\", \"np00000\"), \n",
    " (\"a\", \"sps00\"), \n",
    " (\"phoenix\", \"np00000\"), \n",
    " (\"para\", \"sps00\"),\n",
    " (\"el\", \"da0ms0\"),\n",
    " (\"7\", \"Z\"),\n",
    " (\"de\", \"sps00\"),\n",
    " (\"mayo\", \"mes\"),\n",
    " (\"con\", \"sps00\"), \n",
    " (\"virgin america\", \"np00000\")],\n",
    "\n",
    "[('quiero', 'vmip3p0'),\n",
    "  ('reservar', 'vmic000'),\n",
    "  ('un', 'sps00'),\n",
    "  ('vuelo', 'ncms000'),\n",
    "  ('desde', 'sps00'),\n",
    "  ('madrid', 'np00000'),\n",
    "  ('a', 'sps00'),\n",
    "  ('new york', 'np00000'),\n",
    "  ('york', 'np00000'),\n",
    "  ('para', 'sps00'),\n",
    "  (\"el\", \"da0ms0\"),\n",
    "  (\"8\", \"Z\"),\n",
    "  (\"de\", \"sps00\"),\n",
    "  (\"diciembre\", \"mes\"),\n",
    "  ('con', 'sps00'),\n",
    "  ('air europa', 'np00000')],\n",
    "    \n",
    " [('necesito', 'pp000000'),\n",
    "  ('comprar', 'vmic000'),\n",
    "  ('1', 'Z'),\n",
    "  ('billete', 'ncms000'),\n",
    "  ('de', 'sps00'),\n",
    "  ('valencia', 'np00000'),\n",
    "  ('a', 'sps00'),\n",
    "  ('paris', 'np00000'),\n",
    "  ('para', 'sps00'),\n",
    "  (\"el\", \"da0ms0\"),\n",
    "  (\"14\", \"Z\"),\n",
    "  (\"de\", \"sps00\"),\n",
    "  (\"mayo\", \"mes\"),\n",
    "  ('con', 'sps00'),\n",
    "  ('SAS', 'np00000')],\n",
    "    \n",
    " [('quiero', 'vmis1s0'),\n",
    "  ('comprar', 'vmic000'),\n",
    "  ('1', 'Z'),\n",
    "  ('billete', 'ncms000'),\n",
    "  ('de', 'sps00'),\n",
    "  ('valencia', 'np00000'),\n",
    "  ('a', 'sps00'),\n",
    "  ('madrid', 'np00000'),\n",
    "  ('para', 'sps00'),\n",
    "  ('el', 'da0ms0'),\n",
    "  (\"28\", \"Z\"),\n",
    "  (\"de\", \"sps00\"),\n",
    "  (\"septiembre\", \"mes\"),\n",
    "  ('con', 'sps00'),\n",
    "  ('Iberia', 'np00000')],\n",
    "    \n",
    " [('quiero', 'vmis1s0'),\n",
    "  ('2', 'Z'),\n",
    "  ('vuelo', 'ncms000'),\n",
    "  ('de', 'sps00'),\n",
    "  ('barcelona', 'np00000'),\n",
    "  ('a', 'sps00'),\n",
    "  ('new york', 'np00000'),\n",
    "  ('para', 'sps00'),\n",
    "  ('el', 'da0ms0'),\n",
    "  (\"7\", \"Z\"),\n",
    "  (\"de\", \"sps00\"),\n",
    "  (\"abril\", \"mes\"),\n",
    "  ('con', 'sps00'),\n",
    "  ('vueling', 'np00000')],\n",
    "    \n",
    " [('necesito', 'vmip1s0'),\n",
    " ('2', 'Z'),\n",
    " ('billetes', 'ncmp000'),\n",
    " ('para', 'sps00'),\n",
    " ('ir', 'van0000'),\n",
    " ('desde', 'sps00'),\n",
    " ('madrid', 'np00000'),\n",
    " ('a', 'sps00'),\n",
    " ('tokio', 'np00000'),\n",
    " ('para', 'sps00'),\n",
    " ('el', 'da0ms0'),\n",
    " (\"17\", \"Z\"),\n",
    " (\"de\", \"sps00\"),\n",
    " (\"octubre\", \"mes\"),\n",
    " ('con', 'sps00'),\n",
    " ('ryanair', 'np00000')],\n",
    "              \n",
    "[('dame', 'vmip1s0'),\n",
    " ('3', 'Z'),\n",
    " ('tickets', 'ncmp000'),\n",
    " ('desde', 'sps00'),\n",
    " ('madrid', 'np00000'),\n",
    " ('a', 'sps00'),\n",
    " ('barcelona', 'np00000'),\n",
    " ('para', 'sps00'),\n",
    " ('el', 'da0ms0'),\n",
    " (\"31\", \"Z\"),\n",
    " (\"de\", \"sps00\"),\n",
    " (\"febrero\", \"mes\"),\n",
    " ('con', 'sps00'),\n",
    " ('easyjet', 'np00000')],\n",
    "\n",
    " [('necesito', 'vmn0000'),\n",
    " ('1', 'Z'),\n",
    " ('vuelo', 'ncms000'),\n",
    " ('de', 'spcms'),\n",
    " ('salt lake city', 'np00000'),\n",
    " ('a', 'sps00'),\n",
    " ('los angeles', 'np00000'),\n",
    " ('para', 'sps00'),\n",
    " ('el', 'da0ms0'),\n",
    " (\"1\", \"Z\"),\n",
    " (\"de\", \"sps00\"),\n",
    " (\"agosto\", \"mes\"),\n",
    " ('con', 'sps00'),\n",
    " ('easyjet', 'np00000')],\n",
    "                \n",
    "[('necesito', 'vmn0000'),\n",
    " ('3', 'Z'),\n",
    " ('vuelos', 'ncmp000'),\n",
    " ('de', 'sps00'),\n",
    " ('minneapolis', 'np00000'),\n",
    " ('a', 'sps00'),\n",
    " ('dallas', 'np00000'),\n",
    " ('para', 'sps00'),\n",
    " ('el', 'da0ms0'),\n",
    " (\"13\", \"Z\"),\n",
    " (\"de\", \"sps00\"),\n",
    " (\"septiembre\", \"mes\"),\n",
    " ('con', 'sps00'),\n",
    " ('emirates', 'np00000')],\n",
    "                \n",
    " [('necesito', 'vmn0000'),\n",
    " ('un', 'di0ms0'),\n",
    " ('vuelo', 'ncms000'),\n",
    " ('de', 'spcms'),\n",
    " ('salt lake city', 'np00000'),\n",
    " ('a', 'sps00'),\n",
    " ('dallas', 'np00000'),\n",
    " ('para', 'sps00'),\n",
    " ('el', 'da0ms0'),\n",
    " (\"10\", \"Z\"),\n",
    " (\"de\", \"sps00\"),\n",
    " (\"marzo\", \"mes\"),\n",
    " ('con', 'sps00'),\n",
    " ('lufthansa', 'np00000')],\n",
    "\n",
    "[('quiero', 'vmic000'),\n",
    " ('3', 'Z'),\n",
    " ('billetes', 'ncms000'),\n",
    " ('de', 'sps00'),\n",
    " ('bogota', 'np00000'),\n",
    " ('a', 'sps00'),\n",
    " ('la paz', 'np00000'),\n",
    " ('para', 'sps00'),\n",
    " ('el', 'da0ms0'),\n",
    " (\"6\", \"Z\"),\n",
    " (\"de\", \"sps00\"),\n",
    " (\"noviembre\", \"mes\"),\n",
    " ('con', 'sps00'),\n",
    " ('vueling', 'np00000')],\n",
    "    \n",
    " [('necesito', 'vmn0000'),\n",
    " ('1', 'Z'),\n",
    " ('vuelo', 'ncms000'),\n",
    " ('de', 'spcms'),\n",
    " ('scranton', 'np00000'),\n",
    " ('a', 'sps00'),\n",
    " ('new york', 'np00000'),\n",
    " ('para', 'sps00'),\n",
    " ('el', 'da0ms0'),\n",
    " (\"19\", \"Z\"),\n",
    " (\"de\", \"sps00\"),\n",
    " (\"julio\", \"mes\"),\n",
    " ('con', 'sps00'),\n",
    " ('etl airlines', 'np00000')]]"
   ]
  },
  {
   "cell_type": "markdown",
   "id": "66d6745b",
   "metadata": {},
   "source": [
    "We train a HiddenMarkov model with the `train_corpus`"
   ]
  },
  {
   "cell_type": "code",
   "execution_count": 14,
   "id": "f0e63720",
   "metadata": {},
   "outputs": [],
   "source": [
    "hmm = HiddenMarkovModelTagger.train(train_corpus)"
   ]
  },
  {
   "cell_type": "markdown",
   "id": "ea7b02c3",
   "metadata": {},
   "source": [
    "We check that there is 20 tagged sentences"
   ]
  },
  {
   "cell_type": "code",
   "execution_count": 15,
   "id": "032eacc8",
   "metadata": {},
   "outputs": [
    {
     "data": {
      "text/plain": [
       "20"
      ]
     },
     "execution_count": 15,
     "metadata": {},
     "output_type": "execute_result"
    }
   ],
   "source": [
    "len(train_corpus)"
   ]
  },
  {
   "cell_type": "markdown",
   "id": "ba5e6f28",
   "metadata": {},
   "source": [
    "We check that our model tokenizes correctly"
   ]
  },
  {
   "cell_type": "code",
   "execution_count": 16,
   "id": "b203bf24",
   "metadata": {
    "scrolled": true
   },
   "outputs": [
    {
     "data": {
      "text/plain": [
       "[('quiero', 'vmip1s0'),\n",
       " ('2', 'Z'),\n",
       " ('billetes', 'ncmp000'),\n",
       " ('de', 'sps00'),\n",
       " ('barcelona', 'np00000'),\n",
       " ('a', 'sps00'),\n",
       " ('madrid', 'np00000'),\n",
       " ('para', 'sps00'),\n",
       " ('el', 'da0ms0'),\n",
       " ('15', 'Z'),\n",
       " ('de', 'sps00'),\n",
       " ('agosto', 'mes'),\n",
       " ('con', 'sps00'),\n",
       " ('sas', 'np00000')]"
      ]
     },
     "execution_count": 16,
     "metadata": {},
     "output_type": "execute_result"
    }
   ],
   "source": [
    "hmm.tag(get_tokens(\"Quiero 2 billetes de Barcelona a Madrid para el 15 de agosto con SAS\"))"
   ]
  },
  {
   "cell_type": "markdown",
   "id": "70ed8b52",
   "metadata": {},
   "source": [
    "## Definition of the rules"
   ]
  },
  {
   "cell_type": "code",
   "execution_count": 17,
   "id": "c8cf4a72",
   "metadata": {},
   "outputs": [],
   "source": [
    "sentences_rules = r\"\"\"\n",
    "\n",
    "Origen: <sp.*> {<np.*> <np.*> <np.*> | <.*> <np.*> | <np.*>} <sp.*>\n",
    "\n",
    "Destino: <Origen> <sp.*> {<np.*> <np.*> <np.*> | <.*> <np.*> | <np.*>}\n",
    "\n",
    "numeroBilletes: {<Z>} <nc.*>  \n",
    "\n",
    "fecha: {<Z> <sp.*><mes>}\n",
    "\n",
    "aerolinea: <fecha> <sp.*> {<np.*>}\n",
    "\n",
    "\"\"\"\n",
    "\n",
    "parser = nltk.RegexpParser(sentences_rules)"
   ]
  },
  {
   "cell_type": "code",
   "execution_count": 18,
   "id": "4d4c231e",
   "metadata": {
    "scrolled": false
   },
   "outputs": [
    {
     "data": {
      "image/svg+xml": [
       "<svg baseProfile=\"full\" height=\"168px\" preserveAspectRatio=\"xMidYMid meet\" style=\"font-family: times, serif; font-weight:normal; font-style: normal; font-size: 16px;\" version=\"1.1\" viewBox=\"0,0,944.0,168.0\" width=\"944px\" xmlns=\"http://www.w3.org/2000/svg\" xmlns:ev=\"http://www.w3.org/2001/xml-events\" xmlns:xlink=\"http://www.w3.org/1999/xlink\"><defs /><svg width=\"100%\" x=\"0\" y=\"0em\"><defs /><text text-anchor=\"middle\" x=\"50%\" y=\"1em\">S</text></svg><svg width=\"7.62712%\" x=\"0%\" y=\"3em\"><defs /><svg width=\"100%\" x=\"0\" y=\"0em\"><defs /><text text-anchor=\"middle\" x=\"50%\" y=\"1em\">quiero</text></svg><svg width=\"100%\" x=\"0%\" y=\"3em\"><defs /><svg width=\"100%\" x=\"0\" y=\"0em\"><defs /><text text-anchor=\"middle\" x=\"50%\" y=\"1em\">vmip1s0</text></svg></svg><line stroke=\"black\" x1=\"50%\" x2=\"50%\" y1=\"1.2em\" y2=\"3em\" /></svg><line stroke=\"black\" x1=\"50%\" x2=\"3.81356%\" y1=\"1.2em\" y2=\"3em\" /><svg width=\"13.5593%\" x=\"7.62712%\" y=\"3em\"><defs /><svg width=\"100%\" x=\"0\" y=\"0em\"><defs /><text text-anchor=\"middle\" x=\"50%\" y=\"1em\">numeroBilletes</text></svg><svg width=\"100%\" x=\"0%\" y=\"3em\"><defs /><svg width=\"100%\" x=\"0\" y=\"0em\"><defs /><text text-anchor=\"middle\" x=\"50%\" y=\"1em\">3</text></svg><svg width=\"100%\" x=\"0%\" y=\"3em\"><defs /><svg width=\"100%\" x=\"0\" y=\"0em\"><defs /><text text-anchor=\"middle\" x=\"50%\" y=\"1em\">Z</text></svg></svg><line stroke=\"black\" x1=\"50%\" x2=\"50%\" y1=\"1.2em\" y2=\"3em\" /></svg><line stroke=\"black\" x1=\"50%\" x2=\"50%\" y1=\"1.2em\" y2=\"3em\" /></svg><line stroke=\"black\" x1=\"50%\" x2=\"14.4068%\" y1=\"1.2em\" y2=\"3em\" /><svg width=\"7.62712%\" x=\"21.1864%\" y=\"3em\"><defs /><svg width=\"100%\" x=\"0\" y=\"0em\"><defs /><text text-anchor=\"middle\" x=\"50%\" y=\"1em\">vuelos</text></svg><svg width=\"100%\" x=\"0%\" y=\"3em\"><defs /><svg width=\"100%\" x=\"0\" y=\"0em\"><defs /><text text-anchor=\"middle\" x=\"50%\" y=\"1em\">ncmp000</text></svg></svg><line stroke=\"black\" x1=\"50%\" x2=\"50%\" y1=\"1.2em\" y2=\"3em\" /></svg><line stroke=\"black\" x1=\"50%\" x2=\"25%\" y1=\"1.2em\" y2=\"3em\" /><svg width=\"5.9322%\" x=\"28.8136%\" y=\"3em\"><defs /><svg width=\"100%\" x=\"0\" y=\"0em\"><defs /><text text-anchor=\"middle\" x=\"50%\" y=\"1em\">de</text></svg><svg width=\"100%\" x=\"0%\" y=\"3em\"><defs /><svg width=\"100%\" x=\"0\" y=\"0em\"><defs /><text text-anchor=\"middle\" x=\"50%\" y=\"1em\">sps00</text></svg></svg><line stroke=\"black\" x1=\"50%\" x2=\"50%\" y1=\"1.2em\" y2=\"3em\" /></svg><line stroke=\"black\" x1=\"50%\" x2=\"31.7797%\" y1=\"1.2em\" y2=\"3em\" /><svg width=\"7.62712%\" x=\"34.7458%\" y=\"3em\"><defs /><svg width=\"100%\" x=\"0\" y=\"0em\"><defs /><text text-anchor=\"middle\" x=\"50%\" y=\"1em\">Origen</text></svg><svg width=\"100%\" x=\"0%\" y=\"3em\"><defs /><svg width=\"100%\" x=\"0\" y=\"0em\"><defs /><text text-anchor=\"middle\" x=\"50%\" y=\"1em\">cadiz</text></svg><svg width=\"100%\" x=\"0%\" y=\"3em\"><defs /><svg width=\"100%\" x=\"0\" y=\"0em\"><defs /><text text-anchor=\"middle\" x=\"50%\" y=\"1em\">np00000</text></svg></svg><line stroke=\"black\" x1=\"50%\" x2=\"50%\" y1=\"1.2em\" y2=\"3em\" /></svg><line stroke=\"black\" x1=\"50%\" x2=\"50%\" y1=\"1.2em\" y2=\"3em\" /></svg><line stroke=\"black\" x1=\"50%\" x2=\"38.5593%\" y1=\"1.2em\" y2=\"3em\" /><svg width=\"5.9322%\" x=\"42.3729%\" y=\"3em\"><defs /><svg width=\"100%\" x=\"0\" y=\"0em\"><defs /><text text-anchor=\"middle\" x=\"50%\" y=\"1em\">a</text></svg><svg width=\"100%\" x=\"0%\" y=\"3em\"><defs /><svg width=\"100%\" x=\"0\" y=\"0em\"><defs /><text text-anchor=\"middle\" x=\"50%\" y=\"1em\">sps00</text></svg></svg><line stroke=\"black\" x1=\"50%\" x2=\"50%\" y1=\"1.2em\" y2=\"3em\" /></svg><line stroke=\"black\" x1=\"50%\" x2=\"45.339%\" y1=\"1.2em\" y2=\"3em\" /><svg width=\"7.62712%\" x=\"48.3051%\" y=\"3em\"><defs /><svg width=\"100%\" x=\"0\" y=\"0em\"><defs /><text text-anchor=\"middle\" x=\"50%\" y=\"1em\">Destino</text></svg><svg width=\"100%\" x=\"0%\" y=\"3em\"><defs /><svg width=\"100%\" x=\"0\" y=\"0em\"><defs /><text text-anchor=\"middle\" x=\"50%\" y=\"1em\">madrid</text></svg><svg width=\"100%\" x=\"0%\" y=\"3em\"><defs /><svg width=\"100%\" x=\"0\" y=\"0em\"><defs /><text text-anchor=\"middle\" x=\"50%\" y=\"1em\">np00000</text></svg></svg><line stroke=\"black\" x1=\"50%\" x2=\"50%\" y1=\"1.2em\" y2=\"3em\" /></svg><line stroke=\"black\" x1=\"50%\" x2=\"50%\" y1=\"1.2em\" y2=\"3em\" /></svg><line stroke=\"black\" x1=\"50%\" x2=\"52.1186%\" y1=\"1.2em\" y2=\"3em\" /><svg width=\"5.9322%\" x=\"55.9322%\" y=\"3em\"><defs /><svg width=\"100%\" x=\"0\" y=\"0em\"><defs /><text text-anchor=\"middle\" x=\"50%\" y=\"1em\">para</text></svg><svg width=\"100%\" x=\"0%\" y=\"3em\"><defs /><svg width=\"100%\" x=\"0\" y=\"0em\"><defs /><text text-anchor=\"middle\" x=\"50%\" y=\"1em\">sps00</text></svg></svg><line stroke=\"black\" x1=\"50%\" x2=\"50%\" y1=\"1.2em\" y2=\"3em\" /></svg><line stroke=\"black\" x1=\"50%\" x2=\"58.8983%\" y1=\"1.2em\" y2=\"3em\" /><svg width=\"6.77966%\" x=\"61.8644%\" y=\"3em\"><defs /><svg width=\"100%\" x=\"0\" y=\"0em\"><defs /><text text-anchor=\"middle\" x=\"50%\" y=\"1em\">el</text></svg><svg width=\"100%\" x=\"0%\" y=\"3em\"><defs /><svg width=\"100%\" x=\"0\" y=\"0em\"><defs /><text text-anchor=\"middle\" x=\"50%\" y=\"1em\">da0ms0</text></svg></svg><line stroke=\"black\" x1=\"50%\" x2=\"50%\" y1=\"1.2em\" y2=\"3em\" /></svg><line stroke=\"black\" x1=\"50%\" x2=\"65.2542%\" y1=\"1.2em\" y2=\"3em\" /><svg width=\"16.1017%\" x=\"68.6441%\" y=\"3em\"><defs /><svg width=\"100%\" x=\"0\" y=\"0em\"><defs /><text text-anchor=\"middle\" x=\"50%\" y=\"1em\">fecha</text></svg><svg width=\"15.7895%\" x=\"0%\" y=\"3em\"><defs /><svg width=\"100%\" x=\"0\" y=\"0em\"><defs /><text text-anchor=\"middle\" x=\"50%\" y=\"1em\">5</text></svg><svg width=\"100%\" x=\"0%\" y=\"3em\"><defs /><svg width=\"100%\" x=\"0\" y=\"0em\"><defs /><text text-anchor=\"middle\" x=\"50%\" y=\"1em\">Z</text></svg></svg><line stroke=\"black\" x1=\"50%\" x2=\"50%\" y1=\"1.2em\" y2=\"3em\" /></svg><line stroke=\"black\" x1=\"50%\" x2=\"7.89474%\" y1=\"1.2em\" y2=\"3em\" /><svg width=\"36.8421%\" x=\"15.7895%\" y=\"3em\"><defs /><svg width=\"100%\" x=\"0\" y=\"0em\"><defs /><text text-anchor=\"middle\" x=\"50%\" y=\"1em\">de</text></svg><svg width=\"100%\" x=\"0%\" y=\"3em\"><defs /><svg width=\"100%\" x=\"0\" y=\"0em\"><defs /><text text-anchor=\"middle\" x=\"50%\" y=\"1em\">sps00</text></svg></svg><line stroke=\"black\" x1=\"50%\" x2=\"50%\" y1=\"1.2em\" y2=\"3em\" /></svg><line stroke=\"black\" x1=\"50%\" x2=\"34.2105%\" y1=\"1.2em\" y2=\"3em\" /><svg width=\"47.3684%\" x=\"52.6316%\" y=\"3em\"><defs /><svg width=\"100%\" x=\"0\" y=\"0em\"><defs /><text text-anchor=\"middle\" x=\"50%\" y=\"1em\">octubre</text></svg><svg width=\"100%\" x=\"0%\" y=\"3em\"><defs /><svg width=\"100%\" x=\"0\" y=\"0em\"><defs /><text text-anchor=\"middle\" x=\"50%\" y=\"1em\">mes</text></svg></svg><line stroke=\"black\" x1=\"50%\" x2=\"50%\" y1=\"1.2em\" y2=\"3em\" /></svg><line stroke=\"black\" x1=\"50%\" x2=\"76.3158%\" y1=\"1.2em\" y2=\"3em\" /></svg><line stroke=\"black\" x1=\"50%\" x2=\"76.6949%\" y1=\"1.2em\" y2=\"3em\" /><svg width=\"5.9322%\" x=\"84.7458%\" y=\"3em\"><defs /><svg width=\"100%\" x=\"0\" y=\"0em\"><defs /><text text-anchor=\"middle\" x=\"50%\" y=\"1em\">con</text></svg><svg width=\"100%\" x=\"0%\" y=\"3em\"><defs /><svg width=\"100%\" x=\"0\" y=\"0em\"><defs /><text text-anchor=\"middle\" x=\"50%\" y=\"1em\">sps00</text></svg></svg><line stroke=\"black\" x1=\"50%\" x2=\"50%\" y1=\"1.2em\" y2=\"3em\" /></svg><line stroke=\"black\" x1=\"50%\" x2=\"87.7119%\" y1=\"1.2em\" y2=\"3em\" /><svg width=\"9.32203%\" x=\"90.678%\" y=\"3em\"><defs /><svg width=\"100%\" x=\"0\" y=\"0em\"><defs /><text text-anchor=\"middle\" x=\"50%\" y=\"1em\">aerolinea</text></svg><svg width=\"100%\" x=\"0%\" y=\"3em\"><defs /><svg width=\"100%\" x=\"0\" y=\"0em\"><defs /><text text-anchor=\"middle\" x=\"50%\" y=\"1em\">sas</text></svg><svg width=\"100%\" x=\"0%\" y=\"3em\"><defs /><svg width=\"100%\" x=\"0\" y=\"0em\"><defs /><text text-anchor=\"middle\" x=\"50%\" y=\"1em\">np00000</text></svg></svg><line stroke=\"black\" x1=\"50%\" x2=\"50%\" y1=\"1.2em\" y2=\"3em\" /></svg><line stroke=\"black\" x1=\"50%\" x2=\"50%\" y1=\"1.2em\" y2=\"3em\" /></svg><line stroke=\"black\" x1=\"50%\" x2=\"95.339%\" y1=\"1.2em\" y2=\"3em\" /></svg>"
      ],
      "text/plain": [
       "Tree('S', [('quiero', 'vmip1s0'), Tree('numeroBilletes', [('3', 'Z')]), ('vuelos', 'ncmp000'), ('de', 'sps00'), Tree('Origen', [('cadiz', 'np00000')]), ('a', 'sps00'), Tree('Destino', [('madrid', 'np00000')]), ('para', 'sps00'), ('el', 'da0ms0'), Tree('fecha', [('5', 'Z'), ('de', 'sps00'), ('octubre', 'mes')]), ('con', 'sps00'), Tree('aerolinea', [('sas', 'np00000')])])"
      ]
     },
     "execution_count": 18,
     "metadata": {},
     "output_type": "execute_result"
    }
   ],
   "source": [
    "user_query = \"Quiero 3 vuelos de Cadiz a Madrid para el 5 de octubre con SAS\"\n",
    "tree_query = get_tree(hmm.tag(get_tokens(user_query)))\n",
    "tree_query"
   ]
  },
  {
   "cell_type": "markdown",
   "id": "1f952ff3",
   "metadata": {},
   "source": [
    "## Chatbot"
   ]
  },
  {
   "cell_type": "code",
   "execution_count": 19,
   "id": "da74173e",
   "metadata": {},
   "outputs": [],
   "source": [
    "engine = pyttsx3.init()\n",
    "#Speed setting\n",
    "engine.setProperty('rate', 140)\n",
    "\n",
    "#Language settings\n",
    "engine.setProperty('voice', 'spanish')"
   ]
  },
  {
   "cell_type": "code",
   "execution_count": 20,
   "id": "965d57eb",
   "metadata": {
    "scrolled": true
   },
   "outputs": [
    {
     "name": "stdout",
     "output_type": "stream",
     "text": [
      "Di algo...\n",
      "result2:\n",
      "{   'alternative': [   {   'confidence': 0.95804894,\n",
      "                           'transcript': 'los de Cádiz a Madrid para el cinco '\n",
      "                                         'de octubre'},\n",
      "                       {   'transcript': 'los de Cádiz a Madrid para el cinco '\n",
      "                                         'de octubre con'},\n",
      "                       {   'transcript': 'los de Cádiz a Madrid para el cinco '\n",
      "                                         'de octubre y'}],\n",
      "    'final': True}\n",
      "Di algo...\n",
      "result2:\n",
      "{   'alternative': [   {   'confidence': 0.95477629,\n",
      "                           'transcript': 'American Airlines'},\n",
      "                       {'transcript': 'American airlands'},\n",
      "                       {'transcript': 'American airland'}],\n",
      "    'final': True}\n",
      "Di algo...\n",
      "result2:\n",
      "{   'alternative': [{'confidence': 0.958049, 'transcript': 'Chicago'}],\n",
      "    'final': True}\n",
      "Di algo...\n",
      "result2:\n",
      "{   'alternative': [{'confidence': 0.958049, 'transcript': 'New York'}],\n",
      "    'final': True}\n",
      "Gracias, procesando tu peticion...\n",
      "Perfecto. Voy a realizar la búsqueda de  billetes para tu viaje desde \n",
      "        chicago a new york para el cinco de octubre\n",
      "        con american airlines.\n",
      "Quieres continuar s/n : \n",
      "n\n"
     ]
    }
   ],
   "source": [
    "sky2travel_chat(engine)\n",
    "#\"Quiero 3 vuelos de Cadiz a Madrid para el 5 de octubre con SAS\""
   ]
  },
  {
   "cell_type": "markdown",
   "id": "1b592f4c",
   "metadata": {},
   "source": [
    "## Conclusions"
   ]
  },
  {
   "cell_type": "markdown",
   "id": "c0e0d93d",
   "metadata": {},
   "source": [
    "1- It is not practical to create a chatbot from scratch. It is better to use already created NLP models and adapt them.\n",
    "\n",
    "2- A large amount of data is needed, since the structure of the sentences can be very diverse. We have understood that 20 sentences do not adapt to reality, and we have had to adapt the sentences in a well-defined and pre-established context.\n",
    "\n",
    "3- The need to know the language with which we are going to deal is fundamental, and we have understood the difficulty of dealing with colloquial expressions."
   ]
  }
 ],
 "metadata": {
  "kernelspec": {
   "display_name": "Python 3 (ipykernel)",
   "language": "python",
   "name": "python3"
  },
  "language_info": {
   "codemirror_mode": {
    "name": "ipython",
    "version": 3
   },
   "file_extension": ".py",
   "mimetype": "text/x-python",
   "name": "python",
   "nbconvert_exporter": "python",
   "pygments_lexer": "ipython3",
   "version": "3.10.9"
  },
  "toc": {
   "base_numbering": 1,
   "nav_menu": {},
   "number_sections": true,
   "sideBar": true,
   "skip_h1_title": false,
   "title_cell": "Table of Contents",
   "title_sidebar": "Contents",
   "toc_cell": false,
   "toc_position": {},
   "toc_section_display": true,
   "toc_window_display": true
  }
 },
 "nbformat": 4,
 "nbformat_minor": 5
}
